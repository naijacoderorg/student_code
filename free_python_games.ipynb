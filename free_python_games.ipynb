{
  "nbformat": 4,
  "nbformat_minor": 0,
  "metadata": {
    "colab": {
      "provenance": [],
      "authorship_tag": "ABX9TyMNMGKYcXkdeEOc4Lct+Ny9",
      "include_colab_link": true
    },
    "kernelspec": {
      "name": "python3",
      "display_name": "Python 3"
    },
    "language_info": {
      "name": "python"
    }
  },
  "cells": [
    {
      "cell_type": "markdown",
      "metadata": {
        "id": "view-in-github",
        "colab_type": "text"
      },
      "source": [
        "<a href=\"https://colab.research.google.com/github/naijacoderorg/summercode2023/blob/main/free_python_games.ipynb\" target=\"_parent\"><img src=\"https://colab.research.google.com/assets/colab-badge.svg\" alt=\"Open In Colab\"/></a>"
      ]
    },
    {
      "cell_type": "code",
      "execution_count": 1,
      "metadata": {
        "colab": {
          "base_uri": "https://localhost:8080/"
        },
        "id": "VopUuPe-tsKF",
        "outputId": "b7aec76c-0286-4ad8-a27e-68f88b30934f"
      },
      "outputs": [
        {
          "output_type": "stream",
          "name": "stdout",
          "text": [
            "Collecting freegames\n",
            "  Downloading freegames-2.5.3-py3-none-any.whl (112 kB)\n",
            "\u001b[?25l     \u001b[90m━━━━━━━━━━━━━━━━━━━━━━━━━━━━━━━━━━━━━━━━\u001b[0m \u001b[32m0.0/112.8 kB\u001b[0m \u001b[31m?\u001b[0m eta \u001b[36m-:--:--\u001b[0m\r\u001b[2K     \u001b[91m━━━━━━━━━━━━━━\u001b[0m\u001b[91m╸\u001b[0m\u001b[90m━━━━━━━━━━━━━━━━━━━━━━━━━\u001b[0m \u001b[32m41.0/112.8 kB\u001b[0m \u001b[31m1.0 MB/s\u001b[0m eta \u001b[36m0:00:01\u001b[0m\r\u001b[2K     \u001b[90m━━━━━━━━━━━━━━━━━━━━━━━━━━━━━━━━━━━━━━━\u001b[0m \u001b[32m112.8/112.8 kB\u001b[0m \u001b[31m1.7 MB/s\u001b[0m eta \u001b[36m0:00:00\u001b[0m\n",
            "\u001b[?25hInstalling collected packages: freegames\n",
            "Successfully installed freegames-2.5.3\n"
          ]
        }
      ],
      "source": [
        "!python3 -m pip install freegames"
      ]
    },
    {
      "cell_type": "code",
      "source": [
        "!python3 -m freegames --help"
      ],
      "metadata": {
        "colab": {
          "base_uri": "https://localhost:8080/"
        },
        "id": "gnS0y8f2uLc6",
        "outputId": "554c8dad-100e-473f-8e2c-297e8b0acc5d"
      },
      "execution_count": 3,
      "outputs": [
        {
          "output_type": "stream",
          "name": "stdout",
          "text": [
            "usage: freegames\n",
            "       [-h]\n",
            "       {list,play,show,copy}\n",
            "       ...\n",
            "\n",
            "Free Python\n",
            "Games\n",
            "\n",
            "positional arguments:\n",
            "  {list,play,show,copy}\n",
            "    sub-command\n",
            "    help\n",
            "    list\n",
            "    list games\n",
            "    play\n",
            "    play free\n",
            "    Python\n",
            "    games\n",
            "    show\n",
            "    show game\n",
            "    source code\n",
            "    copy\n",
            "    copy game\n",
            "    source code\n",
            "\n",
            "options:\n",
            "  -h, --help\n",
            "    show this\n",
            "    help\n",
            "    message and\n",
            "    exit\n",
            "\n",
            "Copyright\n",
            "2023 Grant\n",
            "Jenks\n"
          ]
        }
      ]
    },
    {
      "cell_type": "code",
      "source": [
        "!python3 -m freegames list"
      ],
      "metadata": {
        "colab": {
          "base_uri": "https://localhost:8080/"
        },
        "id": "AkolGweAuTuM",
        "outputId": "2bf32943-4074-4d3a-bac3-a05d8330be89"
      },
      "execution_count": 4,
      "outputs": [
        {
          "output_type": "stream",
          "name": "stdout",
          "text": [
            "ant\n",
            "avoid\n",
            "bagels\n",
            "bounce\n",
            "cannon\n",
            "connect\n",
            "crypto\n",
            "fidget\n",
            "flappy\n",
            "guess\n",
            "illusion\n",
            "life\n",
            "madlibs\n",
            "maze\n",
            "memory\n",
            "minesweeper\n",
            "pacman\n",
            "paint\n",
            "pong\n",
            "rps\n",
            "simonsays\n",
            "snake\n",
            "tictactoe\n",
            "tiles\n",
            "tron\n",
            "typing\n"
          ]
        }
      ]
    }
  ]
}